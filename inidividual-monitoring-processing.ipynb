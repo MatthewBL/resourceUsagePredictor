{
 "cells": [
  {
   "cell_type": "code",
   "execution_count": 23,
   "metadata": {},
   "outputs": [],
   "source": [
    "from sklearn.ensemble import IsolationForest\n",
    "from scipy.stats import zscore\n",
    "import pandas as pd\n",
    "import re"
   ]
  },
  {
   "cell_type": "code",
   "execution_count": 24,
   "metadata": {},
   "outputs": [],
   "source": [
    "def read_csv_file(filename):\n",
    "    \n",
    "    try:\n",
    "        # Read the CSV file into DataFrame\n",
    "        df = pd.read_csv(filename)\n",
    "        return df\n",
    "    except FileNotFoundError:\n",
    "        print(f\"File {filename} not found.\")\n",
    "        return None"
   ]
  },
  {
   "cell_type": "code",
   "execution_count": 25,
   "metadata": {},
   "outputs": [],
   "source": [
    "# Read the CSV file\n",
    "df = read_csv_file('individual_monitoring.csv')\n",
    "\n",
    "# Remove all lines that contain the header\n",
    "df = df[df['Timestamp'] != 'Timestamp']\n",
    "\n",
    "# Trim the headers\n",
    "df.columns = df.columns.str.strip()\n",
    "\n",
    "# Reformat the values of the rows to make them exclusively numeric\n",
    "df['CPU Load'] = df['CPU Load'].str.replace('CPU Load: ', '').str.replace('%', '').astype(float)\n",
    "df['Memory Load'] = df['Memory Load'].str.replace('Memory Load: ', '').str.replace('GB', '').astype(float)\n",
    "df['Elapsed Time'] = df['Elapsed Time'].str.replace('ms', '').astype(float)\n",
    "\n",
    "# Remove rows with CPU Load values of 100, 0, or -100\n",
    "df = df[(df['CPU Load'] != 100) & (df['CPU Load'] != 0) & (df['CPU Load'] != -100)]\n",
    "\n",
    "# Merge the columns URI, Method, and Pricing into a new column called Identifier\n",
    "df['Identifier'] = df['URI'].str.strip() + '_' + df['Method'].str.strip() + '_' + df['Pricing'].str.strip()\n",
    "\n",
    "# Remove the Timestamp, Request ID, URI, Method, and Pricing columns\n",
    "df = df.drop(columns=['Timestamp', 'Request ID', 'URI', 'Method', 'Pricing'])\n",
    "\n",
    "# Create a new dataframe for each possible identifier\n",
    "dfs = [group for _, group in df.groupby('Identifier')]\n",
    "\n",
    "# Apply outlier detection to each dataframe\n",
    "cleaned_dfs = []\n",
    "for sub_df in dfs:\n",
    "    # Apply Isolation Forest for outlier detection\n",
    "    iso_forest = IsolationForest(contamination=0.05, random_state=42)\n",
    "    sub_df['anomaly'] = iso_forest.fit_predict(sub_df[['CPU Load', 'Memory Load', 'Elapsed Time']])\n",
    "    sub_df = sub_df[sub_df['anomaly'] == 1].drop(columns=['anomaly'])\n",
    "\n",
    "    # Apply Z-score filtering for outlier detection\n",
    "    z_scores = sub_df[['CPU Load', 'Memory Load', 'Elapsed Time']].apply(zscore)\n",
    "    sub_df = sub_df[(z_scores < 3).all(axis=1)]\n",
    "    \n",
    "    cleaned_dfs.append(sub_df)\n",
    "\n",
    "# Reform the dataframe\n",
    "cleaned_df = pd.concat(cleaned_dfs, ignore_index=True)"
   ]
  },
  {
   "cell_type": "code",
   "execution_count": 26,
   "metadata": {},
   "outputs": [],
   "source": [
    "# Group by Identifier and calculate the mean of CPU Load and Memory Load\n",
    "grouped_df = df.groupby('Identifier').mean().reset_index()"
   ]
  },
  {
   "cell_type": "code",
   "execution_count": 27,
   "metadata": {},
   "outputs": [
    {
     "name": "stdout",
     "output_type": "stream",
     "text": [
      "The processed DataFrame has been saved to 'processed_individual_monitoring.csv'.\n"
     ]
    }
   ],
   "source": [
    "# Write the new DataFrame to a CSV file\n",
    "grouped_df.to_csv('processed_individual_monitoring.csv', index=False)\n",
    "\n",
    "# Display a message indicating completion\n",
    "print(\"The processed DataFrame has been saved to 'processed_individual_monitoring.csv'.\")"
   ]
  },
  {
   "cell_type": "code",
   "execution_count": null,
   "metadata": {},
   "outputs": [],
   "source": []
  }
 ],
 "metadata": {
  "kernelspec": {
   "display_name": "Python 3",
   "language": "python",
   "name": "python3"
  },
  "language_info": {
   "codemirror_mode": {
    "name": "ipython",
    "version": 3
   },
   "file_extension": ".py",
   "mimetype": "text/x-python",
   "name": "python",
   "nbconvert_exporter": "python",
   "pygments_lexer": "ipython3",
   "version": "3.12.3"
  }
 },
 "nbformat": 4,
 "nbformat_minor": 2
}
