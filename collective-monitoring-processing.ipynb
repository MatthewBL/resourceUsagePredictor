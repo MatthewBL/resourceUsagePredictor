{
 "cells": [
  {
   "cell_type": "code",
   "execution_count": 1,
   "metadata": {},
   "outputs": [],
   "source": [
    "import pandas as pd\n",
    "import re\n",
    "from sklearn.ensemble import IsolationForest\n",
    "from scipy.stats import zscore"
   ]
  },
  {
   "cell_type": "code",
   "execution_count": 2,
   "metadata": {},
   "outputs": [],
   "source": [
    "def read_csv_file(filename):\n",
    "    \n",
    "    try:\n",
    "        # Read the CSV file into DataFrame\n",
    "        df = pd.read_csv(filename)\n",
    "        return df\n",
    "    except FileNotFoundError:\n",
    "        print(f\"File {filename} not found.\")\n",
    "        return None"
   ]
  },
  {
   "cell_type": "code",
   "execution_count": 3,
   "metadata": {},
   "outputs": [
    {
     "name": "stdout",
     "output_type": "stream",
     "text": [
      "40267\n",
      "20423\n",
      "18875\n"
     ]
    }
   ],
   "source": [
    "# Read the CSV file\n",
    "df = pd.read_csv('collective_monitoring.csv')\n",
    "\n",
    "# Remove all lines that contain the header\n",
    "df = df[df['Timestamp'] != 'Timestamp']\n",
    "\n",
    "# Trim the headers\n",
    "df.columns = df.columns.str.strip()\n",
    "\n",
    "# Reformat the values of the rows to make them exclusively numeric\n",
    "df['CPU Load'] = df['CPU Load'].str.replace('CPU Load: ', '').str.replace('%', '').astype(float)\n",
    "df['Memory Load'] = df['Memory Load'].str.replace('Memory Load: ', '').str.replace('GB', '').astype(float)\n",
    "df['Elapsed Time'] = df['Elapsed Time'].str.replace('ms', '').astype(float)\n",
    "\n",
    "print(df.shape[0])\n",
    "\n",
    "# Remove rows with CPU Load values of 100, 0, or -100\n",
    "df = df[(df['CPU Load'] != 0) & (df['CPU Load'] != -100)]\n",
    "\n",
    "# Remove the RequestId column\n",
    "df = df.drop(columns=['Request ID'])\n",
    "\n",
    "# Merge the columns URI, Method, and Pricing into a new column called Identifier\n",
    "df['Identifier'] = df['URI'].str.strip() + '_' + df['Method'].str.strip() + '_' + df['Pricing'].str.strip()\n",
    "\n",
    "print(df.shape[0])\n",
    "\n",
    "# Apply Isolation Forest for outlier detection\n",
    "iso_forest = IsolationForest(contamination=0.05, random_state=42)\n",
    "outliers = iso_forest.fit_predict(df[['CPU Load', 'Memory Load', 'Elapsed Time']])\n",
    "df = df[outliers == 1]\n",
    "\n",
    "# Apply Z-score filtering for outlier detection\n",
    "z_scores = df[['CPU Load', 'Memory Load', 'Elapsed Time']].apply(zscore)\n",
    "df = df[(z_scores < 3).all(axis=1)]\n",
    "\n",
    "print(df.shape[0])"
   ]
  },
  {
   "cell_type": "code",
   "execution_count": 4,
   "metadata": {},
   "outputs": [
    {
     "name": "stdout",
     "output_type": "stream",
     "text": [
      "The processed DataFrame has been saved to 'processed_collective_monitoring.csv'.\n"
     ]
    }
   ],
   "source": [
    "# Write the new DataFrame to a CSV file\n",
    "df.to_csv('processed_collective_monitoring.csv', index=False)\n",
    "\n",
    "# Display a message indicating completion\n",
    "print(\"The processed DataFrame has been saved to 'processed_collective_monitoring.csv'.\")"
   ]
  },
  {
   "cell_type": "code",
   "execution_count": null,
   "metadata": {},
   "outputs": [],
   "source": []
  }
 ],
 "metadata": {
  "kernelspec": {
   "display_name": "Python 3",
   "language": "python",
   "name": "python3"
  },
  "language_info": {
   "codemirror_mode": {
    "name": "ipython",
    "version": 3
   },
   "file_extension": ".py",
   "mimetype": "text/x-python",
   "name": "python",
   "nbconvert_exporter": "python",
   "pygments_lexer": "ipython3",
   "version": "3.12.3"
  }
 },
 "nbformat": 4,
 "nbformat_minor": 2
}
