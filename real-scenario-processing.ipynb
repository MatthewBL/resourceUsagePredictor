{
 "cells": [
  {
   "cell_type": "code",
   "execution_count": 1,
   "metadata": {},
   "outputs": [],
   "source": [
    "import pandas as pd\n",
    "import re"
   ]
  },
  {
   "cell_type": "code",
   "execution_count": 2,
   "metadata": {},
   "outputs": [],
   "source": [
    "def read_csv_file(filename):\n",
    "    \n",
    "    try:\n",
    "        # Read the CSV file into DataFrame\n",
    "        df = pd.read_csv(filename)\n",
    "        return df\n",
    "    except FileNotFoundError:\n",
    "        print(f\"File {filename} not found.\")\n",
    "        return None"
   ]
  },
  {
   "cell_type": "code",
   "execution_count": 3,
   "metadata": {},
   "outputs": [],
   "source": [
    "df = read_csv_file('real-scenario_data.csv')\n",
    "\n",
    "# Remove all lines that contain the header\n",
    "df = df[df['Timestamp'] != 'Timestamp']\n",
    "\n",
    "# Trim the headers\n",
    "df.columns = df.columns.str.strip()\n",
    "\n",
    "df['Elapsed Time'] = df['Elapsed Time'].str.replace('ms', '').astype(float)\n",
    "\n",
    "# Remove the RequestId column\n",
    "df = df.drop(columns=['Request ID'])\n",
    "\n",
    "# Merge the columns URI, Method, and Pricing into a new column called Identifier\n",
    "df['Identifier'] = df['URI'].str.strip() + '_' + df['Method'].str.strip() + '_' + df['Pricing'].str.strip()"
   ]
  },
  {
   "cell_type": "code",
   "execution_count": 4,
   "metadata": {},
   "outputs": [
    {
     "name": "stdout",
     "output_type": "stream",
     "text": [
      "The processed DataFrame has been saved to 'processed_real_scenario.csv'.\n"
     ]
    }
   ],
   "source": [
    "# Write the new DataFrame to a CSV file\n",
    "df.to_csv('processed_real_scenario.csv', index=False)\n",
    "\n",
    "# Display a message indicating completion\n",
    "print(\"The processed DataFrame has been saved to 'processed_real_scenario.csv'.\")"
   ]
  },
  {
   "cell_type": "code",
   "execution_count": null,
   "metadata": {},
   "outputs": [],
   "source": []
  }
 ],
 "metadata": {
  "kernelspec": {
   "display_name": "Python 3",
   "language": "python",
   "name": "python3"
  },
  "language_info": {
   "codemirror_mode": {
    "name": "ipython",
    "version": 3
   },
   "file_extension": ".py",
   "mimetype": "text/x-python",
   "name": "python",
   "nbconvert_exporter": "python",
   "pygments_lexer": "ipython3",
   "version": "3.12.3"
  }
 },
 "nbformat": 4,
 "nbformat_minor": 2
}
