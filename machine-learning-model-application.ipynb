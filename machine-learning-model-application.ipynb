{
 "cells": [
  {
   "cell_type": "code",
   "execution_count": 5,
   "metadata": {},
   "outputs": [],
   "source": [
    "import pandas as pd\n",
    "import joblib"
   ]
  },
  {
   "cell_type": "code",
   "execution_count": 6,
   "metadata": {},
   "outputs": [],
   "source": [
    "def preprocess_data():\n",
    "    # Read the individual and collective monitoring CSV files\n",
    "    individual_df = pd.read_csv('processed_individual_monitoring.csv')\n",
    "    real_scenario_df = pd.read_csv('processed_real_scenario.csv')\n",
    "\n",
    "    # Merge the DataFrames on the Identifier column\n",
    "    merged_df = pd.merge(real_scenario_df, individual_df, on='Identifier', suffixes=('', '_Individual'))\n",
    "    \n",
    "    # Add the _Individual suffix to CPU Load and Memory Load columns\n",
    "    if 'CPU Load' in merged_df.columns:\n",
    "        merged_df.rename(columns={'CPU Load': 'CPU Load_Individual'}, inplace=True)\n",
    "    if 'Memory Load' in merged_df.columns:\n",
    "        merged_df.rename(columns={'Memory Load': 'Memory Load_Individual'}, inplace=True)\n",
    "\n",
    "    # Remove the categorical columns\n",
    "    numerical_df = merged_df.drop(columns=['URI', 'Method', 'Pricing', 'Identifier'])\n",
    "\n",
    "    # Group by Timestamp and aggregate the individual numerical values\n",
    "    aggregated_df = numerical_df.groupby('Timestamp').agg(['sum', 'mean', 'max', 'min'])\n",
    "\n",
    "    # Flatten the MultiIndex columns\n",
    "    aggregated_df.columns = ['_'.join(col).strip() for col in aggregated_df.columns.values]\n",
    "\n",
    "    # Drop the Timestamp column\n",
    "    aggregated_df = aggregated_df.reset_index(drop=True)\n",
    "\n",
    "    return aggregated_df"
   ]
  },
  {
   "cell_type": "code",
   "execution_count": 7,
   "metadata": {},
   "outputs": [],
   "source": [
    "def load_and_predict(target_column, model_type):\n",
    "    # Load the new data\n",
    "    df = preprocess_data()\n",
    "\n",
    "    # Load the feature selector and model\n",
    "    selector = joblib.load(f'feature_selector_{target_column}_{model_type}.joblib')\n",
    "    model = joblib.load(f'{model_type}_model_{target_column}.joblib')\n",
    "\n",
    "    # Ensure the target column is not in the features\n",
    "    if target_column in df.columns:\n",
    "        df = df.drop(columns=[target_column])\n",
    "\n",
    "    # Select the features used in training\n",
    "    X_new = selector.transform(df)\n",
    "\n",
    "    # Make predictions\n",
    "    predictions = model.predict(X_new)\n",
    "\n",
    "    return predictions"
   ]
  },
  {
   "cell_type": "code",
   "execution_count": 8,
   "metadata": {},
   "outputs": [
    {
     "name": "stdout",
     "output_type": "stream",
     "text": [
      "CPU Load predictions using knn model: [85.678 90.432 90.432 86.438 86.958 87.578 85.678 86.958 51.79  90.432\n",
      " 86.438 85.678 85.678 85.678 84.986 86.438 90.432 89.748 84.29  84.29\n",
      " 84.986 85.678 75.186 64.364 79.398 65.964 50.122 50.122 47.064 48.632\n",
      " 46.484 64.364 48.632 70.268 67.77  60.088 67.092 77.65  66.922 46.484\n",
      " 70.268 75.944 58.074 76.024 64.364 69.208 44.848 48.632 58.074 46.484\n",
      " 54.222 70.268 48.632 54.222 79.398 48.632]\n"
     ]
    }
   ],
   "source": [
    "# Predict using the linear model for CPU Load\n",
    "cpu_load_linear_predictions = load_and_predict('CPU Load_mean', 'knn')\n",
    "print(f'CPU Load predictions using knn model: {cpu_load_linear_predictions}')"
   ]
  },
  {
   "cell_type": "code",
   "execution_count": 4,
   "metadata": {},
   "outputs": [
    {
     "name": "stdout",
     "output_type": "stream",
     "text": [
      "CPU Load predictions using linear model: [ 87.81547689 149.2637535  110.5420533  102.08244909  88.25740479\n",
      " 102.33048298  71.34529221  98.19695694  61.03456621  99.68734928\n",
      "  88.03671303  87.95094213  90.150906    77.02407501  82.79500821\n",
      " 116.09585256  79.67088834  79.10102416  86.48588402  89.89343212\n",
      "  67.94403548  90.55078562  64.45032825  62.23188775  62.32134893\n",
      "  66.29608321  62.05309734  65.0877596   63.52629511  64.48055455\n",
      "  62.00626883  63.67355705  64.68015514  59.96838666  62.3313466\n",
      "  66.1997587   61.3174933   65.55724205  66.5723525   62.37299408\n",
      "  60.31294902  61.01603687  64.04829898  62.79274283  65.25446034\n",
      "  63.15394121  54.39182714  67.16782207  63.18481171  63.16499573\n",
      "  59.79575203  62.83605009  64.34037269  61.6500181   62.31608122\n",
      "  64.78222614]\n",
      "Memory Load predictions using linear model: [3.53752549 3.56639682 3.57845533 3.57716543 3.57177353 3.57171993\n",
      " 3.57610779 3.57512287 3.53933676 3.55900839 3.56455594 3.56727285\n",
      " 3.57287232 3.57004672 3.56874195 3.53437479 3.55685152 3.57012251\n",
      " 3.57070904 3.57144192 3.58305184 3.57930139 3.5653553  3.56276126\n",
      " 3.5627479  3.56392261 3.56277541 3.564243   3.56349364 3.5620801\n",
      " 3.56279073 3.56282415 3.56261527 3.56016781 3.56392839 3.56483048\n",
      " 3.57162615 3.56395118 3.56504979 3.56779716 3.5663225  3.56325896\n",
      " 3.57229611 3.56180786 3.56436648 3.57196277 3.57618243 3.56945168\n",
      " 3.56870846 3.56483033 3.56302429 3.56587722 3.56577893 3.56451694\n",
      " 3.56714637 3.56878351]\n",
      "CPU Load predictions using random forest model: [91.2623 94.2113 94.2113 89.5868 86.3274 91.0164 81.1296 90.0471 66.9802\n",
      " 94.2113 86.9338 84.753  85.3986 87.2946 88.6601 92.4685 89.776  86.8581\n",
      " 82.9343 85.3636 75.4899 86.329  67.3299 72.9636 75.609  76.8631 66.0181\n",
      " 61.801  69.4789 52.8645 49.1583 60.7374 53.95   75.266  76.7119 66.0715\n",
      " 58.0124 73.5078 69.3262 42.9543 71.3776 75.8955 52.8179 77.3194 66.8783\n",
      " 72.6469 50.9388 61.9555 56.1299 72.0454 52.8241 77.0784 54.2749 49.0961\n",
      " 74.9323 54.3047]\n",
      "Memory Load predictions using random forest model: [3.55775214 3.55582857 3.55392225 3.57477937 3.56715879 3.58221131\n",
      " 3.58637331 3.58863493 3.55775214 3.5442876  3.56140997 3.57241143\n",
      " 3.57193204 3.56939165 3.56722303 3.55768105 3.54542529 3.56533404\n",
      " 3.5619897  3.56476725 3.57930153 3.57952876 3.55490024 3.55556823\n",
      " 3.55556823 3.55333039 3.55556823 3.55329799 3.55671821 3.57080426\n",
      " 3.55556823 3.55984685 3.55626199 3.5688181  3.55503924 3.55864353\n",
      " 3.56900414 3.55913343 3.55881893 3.56243026 3.56161531 3.57405386\n",
      " 3.57309657 3.57571259 3.56181241 3.57116902 3.58863493 3.56900277\n",
      " 3.56470993 3.56345452 3.56453426 3.56720734 3.56718465 3.5735949\n",
      " 3.5626633  3.567984  ]\n",
      "CPU Load predictions using SVM model: [79.27614557 77.04085957 77.04085961 81.13840498 80.26578755 81.26606813\n",
      " 78.66322213 80.9015812  70.43534881 77.82606331 79.24010878 78.81247397\n",
      " 78.97656506 78.5740593  76.24754288 81.62058232 78.12010377 78.0455147\n",
      " 79.80590892 79.98111356 74.75528038 78.77127087 70.61047743 70.70028665\n",
      " 70.68045969 70.82272706 70.72161376 70.73266333 70.75908541 70.94990747\n",
      " 70.74510463 70.69436242 70.92582565 70.54780893 70.47787722 70.82927596\n",
      " 70.69971338 70.6551257  70.76262917 70.74840083 70.56029556 70.64719347\n",
      " 70.82550687 70.59309587 70.70498563 70.68546084 70.35599131 71.15498419\n",
      " 70.8273074  70.75740936 70.86517042 70.5500599  71.00315018 70.85437268\n",
      " 70.68530292 70.96375516]\n",
      "Memory Load predictions using SVM model: [3.564407 3.564407 3.564407 3.564407 3.564407 3.564407 3.564407 3.564407\n",
      " 3.564407 3.564407 3.564407 3.564407 3.564407 3.564407 3.564407 3.564407\n",
      " 3.564407 3.564407 3.564407 3.564407 3.564407 3.564407 3.564407 3.564407\n",
      " 3.564407 3.564407 3.564407 3.564407 3.564407 3.564407 3.564407 3.564407\n",
      " 3.564407 3.564407 3.564407 3.564407 3.564407 3.564407 3.564407 3.564407\n",
      " 3.564407 3.564407 3.564407 3.564407 3.564407 3.564407 3.564407 3.564407\n",
      " 3.564407 3.564407 3.564407 3.564407 3.564407 3.564407 3.564407 3.564407]\n"
     ]
    }
   ],
   "source": [
    "# Predict using the linear model for CPU Load\n",
    "cpu_load_linear_predictions = load_and_predict('CPU Load_mean', 'linear')\n",
    "print(f'CPU Load predictions using linear model: {cpu_load_linear_predictions}')\n",
    "\n",
    "# Predict using the linear model for Memory Load\n",
    "memory_load_linear_predictions = load_and_predict('Memory Load_mean', 'linear')\n",
    "print(f'Memory Load predictions using linear model: {memory_load_linear_predictions}')\n",
    "\n",
    "# Predict using the random forest model for CPU Load\n",
    "cpu_load_rf_predictions = load_and_predict('CPU Load_mean', 'random_forest')\n",
    "print(f'CPU Load predictions using random forest model: {cpu_load_rf_predictions}')\n",
    "\n",
    "# Predict using the random forest model for Memory Load\n",
    "memory_load_rf_predictions = load_and_predict('Memory Load_mean', 'random_forest')\n",
    "print(f'Memory Load predictions using random forest model: {memory_load_rf_predictions}')\n",
    "\n",
    "# Predict using the SVM model for CPU Load\n",
    "cpu_load_svm_predictions = load_and_predict('CPU Load_mean', 'svm')\n",
    "print(f'CPU Load predictions using SVM model: {cpu_load_svm_predictions}')\n",
    "\n",
    "# Predict using the SVM model for Memory Load\n",
    "memory_load_svm_predictions = load_and_predict('Memory Load_mean', 'svm')\n",
    "print(f'Memory Load predictions using SVM model: {memory_load_svm_predictions}')"
   ]
  },
  {
   "cell_type": "code",
   "execution_count": null,
   "metadata": {},
   "outputs": [],
   "source": []
  }
 ],
 "metadata": {
  "kernelspec": {
   "display_name": "Python 3",
   "language": "python",
   "name": "python3"
  },
  "language_info": {
   "codemirror_mode": {
    "name": "ipython",
    "version": 3
   },
   "file_extension": ".py",
   "mimetype": "text/x-python",
   "name": "python",
   "nbconvert_exporter": "python",
   "pygments_lexer": "ipython3",
   "version": "3.12.3"
  }
 },
 "nbformat": 4,
 "nbformat_minor": 2
}
